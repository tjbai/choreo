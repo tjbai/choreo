{
 "cells": [
  {
   "cell_type": "code",
   "execution_count": 1,
   "id": "f6ca7760-6bfc-438b-b65a-5fb4f4ba9383",
   "metadata": {},
   "outputs": [],
   "source": [
    "%reload_ext autoreload\n",
    "%autoreload 2"
   ]
  },
  {
   "cell_type": "code",
   "execution_count": 2,
   "id": "8dfb45fd",
   "metadata": {},
   "outputs": [
    {
     "name": "stdout",
     "output_type": "stream",
     "text": [
      "> initializing model parallel with size 1\n",
      "> initializing ddp with size 1\n",
      "> initializing pipeline with size 1\n",
      "Loaded in 112.13 seconds\n"
     ]
    }
   ],
   "source": [
    "import os\n",
    "from llama import Workflow, Llama\n",
    "\n",
    "os.environ[\"RANK\"] = \"0\"\n",
    "os.environ[\"WORLD_SIZE\"] = \"1\"\n",
    "os.environ[\"MASTER_ADDR\"] = \"localhost\"\n",
    "os.environ[\"MASTER_PORT\"] = \"29502\"\n",
    "\n",
    "workflow = Workflow.build(\n",
    "    ckpt_dir='/scratch4/jeisner1/tjbai/llama_8b',\n",
    "    tokenizer_path='/scratch4/jeisner1/tjbai/llama_8b/tokenizer.model',\n",
    "    max_seq_len=8192,\n",
    "    max_batch_size=8,\n",
    "    model_parallel_size=1,\n",
    "    max_nodes=100,\n",
    ")\n",
    "\n",
    "llama = Llama(workflow.model, workflow.tokenizer)"
   ]
  },
  {
   "cell_type": "code",
   "execution_count": null,
   "id": "fcaa957f-e192-4d73-9f41-3d9fa6e8bf72",
   "metadata": {},
   "outputs": [],
   "source": [
    "from llama.workflows.prisoners import prisoners_cached, prisoners_baseline\n",
    "\n",
    "payoff = (5, 3, 1, 0)\n",
    "\n",
    "baseline_outputs = prisoners_baseline(llama, payoff, alice_strategy='always_defect')"
   ]
  },
  {
   "cell_type": "code",
   "execution_count": 3,
   "id": "81f5d1eb-5a9f-4ff4-893d-7447f3fe0189",
   "metadata": {},
   "outputs": [],
   "source": [
    "import json\n",
    "\n",
    "with open('/home/tbai4/llama3/dumps/prisoners/prisoners_baseline.jsonl') as f:\n",
    "    data = [json.loads(line) for line in f]\n",
    "    \n",
    "baseline = [d['outputs'] for d in data[:100]]\n",
    "always_cooperate = [d['outputs'] for d in data[100:200]]\n",
    "always_defect = [d['outputs'] for d in data[200:]]"
   ]
  },
  {
   "cell_type": "code",
   "execution_count": 15,
   "id": "495bb857-4bf5-4920-a686-8c905eaade0a",
   "metadata": {},
   "outputs": [],
   "source": [
    "from llama.workflows.prisoners import baseline_nll, cached_nll\n",
    "\n",
    "workflow.reset()\n",
    "\n",
    "baseline_res = baseline_nll(\n",
    "    llama,\n",
    "    baseline[0],\n",
    "    payoff=(5,3,1,0),\n",
    "    alice_first=True,\n",
    "    alice_strategy=None\n",
    ")\n",
    "\n",
    "cached_res = cached_nll(\n",
    "    workflow,\n",
    "    baseline[0],\n",
    "    payoff=(5,3,1,0),\n",
    "    alice_first=True,\n",
    "    alice_strategy=None,\n",
    ")"
   ]
  },
  {
   "cell_type": "code",
   "execution_count": 16,
   "id": "9e9aa819-e435-4558-99d9-a230480cb58a",
   "metadata": {},
   "outputs": [
    {
     "name": "stdout",
     "output_type": "stream",
     "text": [
      "1.445046552470573\n",
      "1.387665540824082\n",
      "1.0912827434387258\n",
      "1.08309541044076\n",
      "1.337704761211853\n",
      "1.427836259337768\n",
      "1.2268699074836724\n",
      "1.1250865536961028\n"
     ]
    }
   ],
   "source": [
    "res = baseline_res\n",
    "print(sum(res['alice_nll'][0]) / len(res['alice_nll'][0]))\n",
    "print(sum(res['alice_nll'][1]) / len(res['alice_nll'][1]))\n",
    "print(sum(res['bob_nll'][0]) / len(res['bob_nll'][0]))\n",
    "print(sum(res['bob_nll'][1]) / len(res['bob_nll'][1]))\n",
    "\n",
    "res = cached_res\n",
    "print(sum(res['alice_nll'][0]) / len(res['alice_nll'][0]))\n",
    "print(sum(res['alice_nll'][1]) / len(res['alice_nll'][1]))\n",
    "print(sum(res['bob_nll'][0]) / len(res['bob_nll'][0]))\n",
    "print(sum(res['bob_nll'][1]) / len(res['bob_nll'][1]))"
   ]
  }
 ],
 "metadata": {
  "kernelspec": {
   "display_name": "llama3",
   "language": "python",
   "name": "llama3"
  },
  "language_info": {
   "codemirror_mode": {
    "name": "ipython",
    "version": 3
   },
   "file_extension": ".py",
   "mimetype": "text/x-python",
   "name": "python",
   "nbconvert_exporter": "python",
   "pygments_lexer": "ipython3",
   "version": "3.12.8"
  }
 },
 "nbformat": 4,
 "nbformat_minor": 5
}
