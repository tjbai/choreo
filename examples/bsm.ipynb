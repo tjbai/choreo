{
 "cells": [
  {
   "cell_type": "code",
   "execution_count": 1,
   "id": "bb038c02-4283-40d4-97dc-5f533d9711a1",
   "metadata": {},
   "outputs": [],
   "source": [
    "%reload_ext autoreload\n",
    "%autoreload 2"
   ]
  },
  {
   "cell_type": "code",
   "execution_count": 2,
   "id": "42893f86-dab3-4c4f-9b3f-93e6dd2c6fcd",
   "metadata": {},
   "outputs": [
    {
     "name": "stderr",
     "output_type": "stream",
     "text": [
      "/home/tbai4/llama3/llama/util.py:60: UserWarning: 32768 does not lie within [1, 8192]\n",
      "  warnings.warn(f\"{max_seq_len} does not lie within [1, 8192]\")\n"
     ]
    },
    {
     "name": "stdout",
     "output_type": "stream",
     "text": [
      "> initializing model parallel with size 1\n",
      "> initializing ddp with size 1\n",
      "> initializing pipeline with size 1\n",
      "Converting to LoRA\n",
      "Loaded in 13.40 seconds\n"
     ]
    }
   ],
   "source": [
    "import os\n",
    "from llama import Workflow, Llama\n",
    "\n",
    "os.environ[\"RANK\"] = \"0\"\n",
    "os.environ[\"WORLD_SIZE\"] = \"1\"\n",
    "os.environ[\"MASTER_ADDR\"] = \"localhost\"\n",
    "os.environ[\"MASTER_PORT\"] = \"29502\"\n",
    "\n",
    "workflow = Workflow.build(\n",
    "    ckpt_dir='/scratch4/jeisner1/tjbai/llama_8b',\n",
    "    tokenizer_path='/scratch4/jeisner1/tjbai/llama_8b/tokenizer.model',\n",
    "    max_seq_len=4*8192,\n",
    "    max_batch_size=1,\n",
    "    model_parallel_size=1,\n",
    "    max_nodes=100,\n",
    "    use_lora=True,\n",
    "    lora_rank=64,\n",
    "    lora_alpha=32,\n",
    "    lora_dropout=0.05,\n",
    ")\n",
    "\n",
    "llama = Llama(workflow.model, workflow.tokenizer)"
   ]
  },
  {
   "cell_type": "code",
   "execution_count": 4,
   "id": "ececa34f-8077-45b8-b33f-8814a7c22724",
   "metadata": {},
   "outputs": [],
   "source": [
    "from llama.util import load_ckpt\n",
    "\n",
    "load_ckpt(workflow, '/scratch4/jeisner1/tjbai/checkpoints/bsm/lora_step-104.pt')"
   ]
  },
  {
   "cell_type": "code",
   "execution_count": 8,
   "id": "461863da-c2e6-4250-abfc-4e5ea2a9c84c",
   "metadata": {},
   "outputs": [],
   "source": [
    "from llama.workflows.bsm import bsm_cached\n",
    "\n",
    "outputs = bsm_cached(\n",
    "    workflow=workflow,\n",
    "    concepts=concepts_list[1],\n",
    "    compact=True\n",
    ")"
   ]
  },
  {
   "cell_type": "code",
   "execution_count": 4,
   "id": "17531680-0dd3-4592-9227-c88a6bc99af6",
   "metadata": {},
   "outputs": [],
   "source": [
    "from llama.workflows.bsm import bsm_baseline\n",
    "\n",
    "baseline_outputs = bsm_baseline(\n",
    "    workflow=workflow,\n",
    "    concepts=concepts_list[0],\n",
    ")\n",
    "\n",
    "sample = {\n",
    "    'inputs': {'concepts': concepts_list[0]},\n",
    "    'outputs': baseline_outputs,\n",
    "}"
   ]
  },
  {
   "cell_type": "code",
   "execution_count": null,
   "id": "20df2503-3ed2-47c9-9086-83b38c487ffd",
   "metadata": {},
   "outputs": [],
   "source": [
    "for merge_tokens in baseline_outputs['merge_tokens']:\n",
    "    print(workflow.tokenizer.decode(merge_tokens))"
   ]
  },
  {
   "cell_type": "code",
   "execution_count": 10,
   "id": "dfec69e6-eb22-4263-84a6-1faa7c19d6ae",
   "metadata": {},
   "outputs": [
    {
     "name": "stdout",
     "output_type": "stream",
     "text": [
      "Training 54.5M / 8.1B parameters\n"
     ]
    }
   ],
   "source": [
    "from llama.workflows.finetune import BsmTrainer\n",
    "\n",
    "trainer = BsmTrainer(\n",
    "    workflow=workflow,\n",
    "    output_dir='/scratch4/jeisner1/tjbai/checkpoints/bsm/',\n",
    "    learning_rate=1e-5,\n",
    ")"
   ]
  },
  {
   "cell_type": "code",
   "execution_count": 11,
   "id": "66694094-00a2-4f09-b117-9aba061eb53e",
   "metadata": {},
   "outputs": [
    {
     "data": {
      "text/plain": [
       "(tensor(2.9656, device='cuda:0', dtype=torch.float32, grad_fn=<AddBackward0>),\n",
       " {'train/branch_loss': tensor(0.4616, device='cuda:0', dtype=torch.float32,\n",
       "         grad_fn=<NllLossBackward0>),\n",
       "  'train/solve_loss': tensor(0.8012, device='cuda:0', dtype=torch.float32,\n",
       "         grad_fn=<NllLossBackward0>),\n",
       "  'train/merge_loss': tensor(1.7028, device='cuda:0', dtype=torch.float32,\n",
       "         grad_fn=<NllLossBackward0>)})"
      ]
     },
     "execution_count": 11,
     "metadata": {},
     "output_type": "execute_result"
    }
   ],
   "source": [
    "trainer.step(sample)"
   ]
  },
  {
   "cell_type": "code",
   "execution_count": 2,
   "id": "dee37edf-bd55-44c4-9b37-4f221cf52e80",
   "metadata": {},
   "outputs": [],
   "source": [
    "import json\n",
    "\n",
    "def clean(ls):\n",
    "    return [a[a.index('\\n\\n')+2:] for a in ls]\n",
    "\n",
    "with open('/home/tbai4/llama3/dumps/bsm/preft_eval.json') as f:\n",
    "    data = json.load(f)['raw_data']\n",
    "    baseline = clean(data['baseline']['stories'])\n",
    "    cached = clean(data['cached']['stories'])\n",
    "    cached_compact = clean(data['cached_compact']['stories'])"
   ]
  },
  {
   "cell_type": "code",
   "execution_count": 18,
   "id": "63477b0d-931b-45c2-b0e1-0017b0cacb1f",
   "metadata": {},
   "outputs": [
    {
     "name": "stderr",
     "output_type": "stream",
     "text": [
      "Comparing: 100%|██████████| 50/50 [03:18<00:00,  3.97s/it]"
     ]
    },
    {
     "name": "stdout",
     "output_type": "stream",
     "text": [
      "{\n",
      "  \"a_wins\": 28,\n",
      "  \"b_wins\": 6,\n",
      "  \"ties\": 16,\n",
      "  \"errors\": 0,\n",
      "  \"total\": 50,\n",
      "  \"a_win_percent\": 56.00000000000001,\n",
      "  \"b_win_percent\": 12.0,\n",
      "  \"tie_percent\": 32.0\n",
      "}\n"
     ]
    },
    {
     "name": "stderr",
     "output_type": "stream",
     "text": [
      "\n"
     ]
    }
   ],
   "source": [
    "from llama.workflows.bsm import compare_stories, load_concepts\n",
    "\n",
    "concepts_list = load_concepts(\n",
    "    data_path='/home/tbai4/llama3/data/commongen/commongen.jsonl',\n",
    "    split='val'\n",
    ")\n",
    "\n",
    "_, a_results = compare_stories(baseline, cached, concepts_list)\n",
    "print(json.dumps(a_results, indent=2))\n",
    "\n",
    "_, b_results = compare_stories(baseline, cached_compact, concepts_list)\n",
    "print(json.dumps(b_results, indent=2))"
   ]
  },
  {
   "cell_type": "code",
   "execution_count": 19,
   "id": "574f4e89-0155-428e-9572-3f6bc01df52c",
   "metadata": {},
   "outputs": [],
   "source": [
    "with open('/home/tbai4/llama3/dumps/bsm/checkpoints/all_checkpoint_results.json') as f:\n",
    "    data = json.load(f)"
   ]
  },
  {
   "cell_type": "code",
   "execution_count": 25,
   "id": "14261552-f34d-4955-9e46-ff14b1554da8",
   "metadata": {},
   "outputs": [
    {
     "name": "stderr",
     "output_type": "stream",
     "text": [
      "Comparing: 100%|██████████| 50/50 [03:27<00:00,  4.15s/it]"
     ]
    },
    {
     "name": "stdout",
     "output_type": "stream",
     "text": [
      "{\n",
      "  \"a_wins\": 15,\n",
      "  \"b_wins\": 14,\n",
      "  \"ties\": 21,\n",
      "  \"errors\": 0,\n",
      "  \"total\": 50,\n",
      "  \"a_win_percent\": 30.0,\n",
      "  \"b_win_percent\": 28.000000000000004,\n",
      "  \"tie_percent\": 42.0\n",
      "}\n"
     ]
    },
    {
     "name": "stderr",
     "output_type": "stream",
     "text": [
      "\n"
     ]
    }
   ],
   "source": [
    "postft = clean(data['lora_step-104']['raw_data']['stories'])\n",
    "_, c_results = compare_stories(baseline, postft, concepts_list)\n",
    "print(json.dumps(c_results, indent=2))"
   ]
  },
  {
   "cell_type": "code",
   "execution_count": null,
   "id": "827ab8ce-224e-4519-a466-8137e00ab9a8",
   "metadata": {},
   "outputs": [],
   "source": []
  }
 ],
 "metadata": {
  "kernelspec": {
   "display_name": "llama3",
   "language": "python",
   "name": "llama3"
  },
  "language_info": {
   "codemirror_mode": {
    "name": "ipython",
    "version": 3
   },
   "file_extension": ".py",
   "mimetype": "text/x-python",
   "name": "python",
   "nbconvert_exporter": "python",
   "pygments_lexer": "ipython3",
   "version": "3.12.8"
  }
 },
 "nbformat": 4,
 "nbformat_minor": 5
}
