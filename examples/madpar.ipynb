{
 "cells": [
  {
   "cell_type": "code",
   "execution_count": 1,
   "id": "f6ca7760-6bfc-438b-b65a-5fb4f4ba9383",
   "metadata": {},
   "outputs": [],
   "source": [
    "%reload_ext autoreload\n",
    "%autoreload 2"
   ]
  },
  {
   "cell_type": "code",
   "execution_count": 2,
   "id": "bad1edb8-c312-4cf7-ba31-7fde1dc2d2ab",
   "metadata": {},
   "outputs": [
    {
     "name": "stderr",
     "output_type": "stream",
     "text": [
      "/home/tbai4/llama3/llama/util.py:60: UserWarning: 65536 does not lie within [1, 8192]\n",
      "  warnings.warn(f\"{max_seq_len} does not lie within [1, 8192]\")\n"
     ]
    },
    {
     "name": "stdout",
     "output_type": "stream",
     "text": [
      "> initializing model parallel with size 1\n",
      "> initializing ddp with size 1\n",
      "> initializing pipeline with size 1\n",
      "Loaded in 64.75 seconds\n"
     ]
    }
   ],
   "source": [
    "import os\n",
    "from llama import Workflow, Llama\n",
    "from llama.util import find_free_port\n",
    "\n",
    "os.environ[\"RANK\"] = \"0\"\n",
    "os.environ[\"WORLD_SIZE\"] = \"1\"\n",
    "os.environ[\"MASTER_ADDR\"] = \"localhost\"\n",
    "os.environ[\"MASTER_PORT\"] = str(find_free_port())\n",
    "\n",
    "workflow = Workflow.build(\n",
    "    ckpt_dir='/scratch4/jeisner1/tjbai/llama_8b',\n",
    "    tokenizer_path='/scratch4/jeisner1/tjbai/llama_8b/tokenizer.model',\n",
    "    max_seq_len=8*8192,\n",
    "    max_batch_size=1,\n",
    "    model_parallel_size=1,\n",
    "    max_nodes=100,\n",
    ")\n",
    "\n",
    "llama = Llama(workflow.model, workflow.tokenizer)"
   ]
  },
  {
   "cell_type": "code",
   "execution_count": null,
   "id": "fdec86e3-f3a0-4ee1-abb4-3d7a57c3a47b",
   "metadata": {},
   "outputs": [],
   "source": [
    "correct = []"
   ]
  },
  {
   "cell_type": "code",
   "execution_count": 6,
   "id": "704989ab-04d2-4905-93cc-2836f6a865c0",
   "metadata": {},
   "outputs": [
    {
     "name": "stdout",
     "output_type": "stream",
     "text": [
      "500\n"
     ]
    },
    {
     "name": "stderr",
     "output_type": "stream",
     "text": [
      "100%|██████████| 500/500 [14:06<00:00,  1.69s/it]"
     ]
    },
    {
     "name": "stdout",
     "output_type": "stream",
     "text": [
      "300\n"
     ]
    },
    {
     "name": "stderr",
     "output_type": "stream",
     "text": [
      "\n"
     ]
    }
   ],
   "source": [
    "import json\n",
    "from llama.workflows.madpar import eval_debate_solutions, parse_output\n",
    "from llama.workflows.tot import load_math_problems\n",
    "\n",
    "llama.model.reshape_cache(4)\n",
    "problems = load_math_problems('/home/tbai4/llama3/data/MATH', split='test')[:500]\n",
    "\n",
    "for path in [\n",
    "    # '/home/tbai4/llama3/dumps/madpar/math_baseline_preft_test.json',\n",
    "    # '/home/tbai4/llama3/dumps/madpar/math_cached_preft.json',\n",
    "    '/home/tbai4/llama3/dumps/madpar/math_cached_postft_lora_step-2699.pt.json',\n",
    "]:\n",
    "    with open(path) as f:\n",
    "        data = json.load(f)\n",
    "        print(len(data))\n",
    "\n",
    "    outputs = eval_debate_solutions(\n",
    "        llama,\n",
    "        agent_solutions=[\n",
    "            [parse_output(llama.tokenizer.decode(a)) for a in d['outputs']['debate_tokens'][-1]]\n",
    "            for d in data\n",
    "        ],\n",
    "        problems=problems[:len(data)],\n",
    "    )\n",
    "    correct.append(outputs)\n",
    "    \n",
    "    with open(f'{path}_correct.json', 'w') as f:\n",
    "        json.dump(outputs, f)\n",
    "\n",
    "    print(sum(outputs))"
   ]
  },
  {
   "cell_type": "code",
   "execution_count": 4,
   "id": "0c5cfe87-40b2-4472-9b30-ba2ebe30da80",
   "metadata": {},
   "outputs": [
    {
     "name": "stderr",
     "output_type": "stream",
     "text": [
      "100%|██████████| 500/500 [20:25<00:00,  2.45s/it]\n"
     ]
    },
    {
     "name": "stdout",
     "output_type": "stream",
     "text": [
      "323 500\n"
     ]
    },
    {
     "name": "stderr",
     "output_type": "stream",
     "text": [
      "100%|██████████| 360/360 [23:30<00:00,  3.92s/it]"
     ]
    },
    {
     "name": "stdout",
     "output_type": "stream",
     "text": [
      "188 360\n"
     ]
    },
    {
     "name": "stderr",
     "output_type": "stream",
     "text": [
      "\n"
     ]
    }
   ],
   "source": [
    "import json\n",
    "from llama.workflows.madpar import parse_output, eval_debate_solutions\n",
    "from llama.workflows.tot import load_math_problems\n",
    "\n",
    "llama.model.reshape_cache(4)\n",
    "\n",
    "problems = load_math_problems('/home/tbai4/llama3/data/MATH', split='test')\n",
    "p2s = {d['problem']: d['solution'] for d in problems}\n",
    "\n",
    "for path in [\n",
    "    '/home/tbai4/llama3/dumps/madpar/math_baseline_preft_test.json',\n",
    "    '/home/tbai4/llama3/dumps/madpar/math_cached_preft_test.json',\n",
    "]:\n",
    "\n",
    "    with open(path) as f:\n",
    "        data = json.load(f)\n",
    "\n",
    "    correct = eval_debate_solutions(\n",
    "        llama,\n",
    "        agent_solutions=[\n",
    "            [parse_output(llama.tokenizer.decode(a)) for a in d['outputs']['debate_tokens'][-1]]\n",
    "            for d in data\n",
    "        ],\n",
    "        problems=[{\n",
    "            'problem': d['inputs']['problem'],\n",
    "            'solution': p2s[d['inputs']['problem']]\n",
    "        } for d in data]\n",
    "    )\n",
    "\n",
    "    print(sum(correct), len(correct))"
   ]
  },
  {
   "cell_type": "code",
   "execution_count": null,
   "id": "06747571-cb1b-4698-94a4-499de0ebf427",
   "metadata": {},
   "outputs": [],
   "source": [
    "from llama.workflows.madpar import madpar_baseline\n",
    "from llama.workflows.tot import load_math_problems\n",
    "\n",
    "problems = load_math_problems('/home/tbai4/llama3/data/MATH', split='val')\n",
    "\n",
    "outputs = madpar_baseline(\n",
    "    workflow=workflow,\n",
    "    problem=problems[0]['problem'],\n",
    "    num_agents=3,\n",
    "    num_rounds=3,\n",
    "    debug=True,\n",
    ")"
   ]
  },
  {
   "cell_type": "code",
   "execution_count": 3,
   "id": "1fa7dfc8-3807-43ac-a792-2dff583d1f02",
   "metadata": {},
   "outputs": [],
   "source": [
    "# sample = {\n",
    "#     'inputs': {'problem': problems[0]['problem']},\n",
    "#     'outputs': outputs\n",
    "# }\n",
    "\n",
    "# import json\n",
    "# with open('tmp', 'w') as f:\n",
    "#     json.dump(sample, f)\n",
    "    \n",
    "import json\n",
    "with open('tmp', 'r') as f:\n",
    "    sample = json.load(f)"
   ]
  },
  {
   "cell_type": "code",
   "execution_count": 4,
   "id": "e160042a-1def-4b3b-9648-132cd6ec02cc",
   "metadata": {},
   "outputs": [
    {
     "name": "stdout",
     "output_type": "stream",
     "text": [
      "Training 54.5M / 8.1B parameters\n"
     ]
    }
   ],
   "source": [
    "from llama.workflows.trainers.madpar import MadparTrainer\n",
    "\n",
    "trainer = MadparTrainer(workflow, '/scratch4/jeisner1/tjbai/checkpoints/madpar', 3e-4)"
   ]
  },
  {
   "cell_type": "code",
   "execution_count": null,
   "id": "05b90fbb-0e68-4b7c-86ed-9f0191992465",
   "metadata": {},
   "outputs": [],
   "source": [
    "from tqdm import tqdm\n",
    "for i in tqdm(range(100)):\n",
    "    trainer.optimizer.zero_grad()\n",
    "    loss, metrics = trainer.step(sample)\n",
    "    loss.backward()\n",
    "    print(metrics['train/total_loss'])\n",
    "    trainer.optimizer.step()"
   ]
  },
  {
   "cell_type": "code",
   "execution_count": null,
   "id": "1fe482e0-05de-4f11-945e-631f299ddd3e",
   "metadata": {},
   "outputs": [],
   "source": [
    "from llama.workflows.madpar import mad_cached\n",
    "\n",
    "outputs = mad_cached(\n",
    "    workflow=workflow,\n",
    "    problem=problems[0]['problem'],\n",
    "    num_agents=3,\n",
    "    num_rounds=3,\n",
    "    debug=True\n",
    ")"
   ]
  },
  {
   "cell_type": "code",
   "execution_count": 9,
   "id": "ff1a81a9-5081-413d-8552-b0b615dbc7e1",
   "metadata": {},
   "outputs": [
    {
     "name": "stdout",
     "output_type": "stream",
     "text": [
      "500\n"
     ]
    }
   ],
   "source": [
    "import json\n",
    "from llama.workflows.tot import eval_solutions, load_math_problems\n",
    "\n",
    "problems = load_math_problems('/home/tbai4/llama3/data/MATH', split='train')[:500]\n",
    "print(len(problems))\n",
    "\n",
    "with open('/home/tbai4/llama3/dumps/madpar/math_baseline_e2e.json') as f:\n",
    "    data = json.load(f)"
   ]
  },
  {
   "cell_type": "code",
   "execution_count": 10,
   "id": "0ff0ac50-7fc7-43fa-afcc-0ef9c6cbaca0",
   "metadata": {},
   "outputs": [
    {
     "name": "stdout",
     "output_type": "stream",
     "text": [
      "62\n"
     ]
    }
   ],
   "source": [
    "print(sum(\n",
    "    any(a is None for a in d['outputs']['final_answers'])\n",
    "    for d in data\n",
    "))"
   ]
  },
  {
   "cell_type": "code",
   "execution_count": 25,
   "id": "c521660e-f94f-4753-93b3-3b081d8e2ee8",
   "metadata": {},
   "outputs": [
    {
     "data": {
      "text/plain": [
       "['5/7', '\\\\frac{5', '5/7']"
      ]
     },
     "execution_count": 25,
     "metadata": {},
     "output_type": "execute_result"
    }
   ],
   "source": [
    "data[8]['outputs']['final_answers']"
   ]
  },
  {
   "cell_type": "code",
   "execution_count": null,
   "id": "a0898ba7-42f3-4380-8f1f-ee3f8fae56e0",
   "metadata": {},
   "outputs": [],
   "source": []
  },
  {
   "cell_type": "code",
   "execution_count": null,
   "id": "3dcbc4f5-b4ba-4f60-ad7c-8b42d2bf6907",
   "metadata": {},
   "outputs": [],
   "source": []
  }
 ],
 "metadata": {
  "kernelspec": {
   "display_name": "llama3",
   "language": "python",
   "name": "llama3"
  },
  "language_info": {
   "codemirror_mode": {
    "name": "ipython",
    "version": 3
   },
   "file_extension": ".py",
   "mimetype": "text/x-python",
   "name": "python",
   "nbconvert_exporter": "python",
   "pygments_lexer": "ipython3",
   "version": "3.12.8"
  }
 },
 "nbformat": 4,
 "nbformat_minor": 5
}
